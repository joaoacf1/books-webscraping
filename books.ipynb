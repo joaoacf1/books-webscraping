{
 "cells": [
  {
   "cell_type": "markdown",
   "metadata": {},
   "source": [
    "### Importing libraries"
   ]
  },
  {
   "cell_type": "code",
   "execution_count": 1,
   "metadata": {},
   "outputs": [],
   "source": [
    "import pandas as pd\n",
    "from selenium import webdriver\n",
    "from selenium.webdriver.chrome.service import Service\n",
    "from selenium.webdriver.common.by import By\n",
    "import time"
   ]
  },
  {
   "cell_type": "markdown",
   "metadata": {},
   "source": [
    "### Creating a Chrome WebDriver instance"
   ]
  },
  {
   "cell_type": "code",
   "execution_count": 2,
   "metadata": {},
   "outputs": [],
   "source": [
    "service = Service()\n",
    "\n",
    "options = webdriver.ChromeOptions()\n",
    "\n",
    "driver = webdriver.Chrome(service=service, options=options)"
   ]
  },
  {
   "cell_type": "markdown",
   "metadata": {},
   "source": [
    "### Navigating to the website where we will scrape data"
   ]
  },
  {
   "cell_type": "code",
   "execution_count": 3,
   "metadata": {},
   "outputs": [],
   "source": [
    "url = \"https://books.toscrape.com\"\n",
    "\n",
    "driver.get(url)"
   ]
  },
  {
   "cell_type": "markdown",
   "metadata": {},
   "source": [
    "### Function to access book by book stored stock and title in lists"
   ]
  },
  {
   "cell_type": "code",
   "execution_count": 4,
   "metadata": {},
   "outputs": [],
   "source": [
    "stock_list = []\n",
    "title_list = []\n",
    "\n",
    "def extract_stock(books_elements):\n",
    "    for book in books_elements:\n",
    "        book.click()\n",
    "        quantity_stock = driver.find_element(By.CLASS_NAME, \"instock\").text.replace('In stock (', \"\").replace(' available)', \"\")\n",
    "        stock_list.append(quantity_stock)\n",
    "        title_book = driver.find_element(By.TAG_NAME, \"h1\")\n",
    "        title_list.append(title_book.text)\n",
    "        driver.back()"
   ]
  },
  {
   "cell_type": "markdown",
   "metadata": {},
   "source": [
    "### Start counting the time it takes until the end of automation"
   ]
  },
  {
   "cell_type": "code",
   "execution_count": 5,
   "metadata": {},
   "outputs": [],
   "source": [
    "start_time = time.time()"
   ]
  },
  {
   "cell_type": "markdown",
   "metadata": {},
   "source": [
    "### Executes the extract_stock function several times until the next page button is unavailable"
   ]
  },
  {
   "cell_type": "code",
   "execution_count": 6,
   "metadata": {},
   "outputs": [
    {
     "name": "stdout",
     "output_type": "stream",
     "text": [
      "Page 1 of 50\n",
      "Page 2 of 50\n",
      "Page 3 of 50\n",
      "Page 4 of 50\n",
      "Page 5 of 50\n",
      "Page 6 of 50\n",
      "Page 7 of 50\n",
      "Page 8 of 50\n",
      "Page 9 of 50\n",
      "Page 10 of 50\n",
      "Page 11 of 50\n",
      "Page 12 of 50\n",
      "Page 13 of 50\n",
      "Page 14 of 50\n",
      "Page 15 of 50\n",
      "Page 16 of 50\n",
      "Page 17 of 50\n",
      "Page 18 of 50\n",
      "Page 19 of 50\n",
      "Page 20 of 50\n",
      "Page 21 of 50\n",
      "Page 22 of 50\n",
      "Page 23 of 50\n",
      "Page 24 of 50\n",
      "Page 25 of 50\n",
      "Page 26 of 50\n",
      "Page 27 of 50\n",
      "Page 28 of 50\n",
      "Page 29 of 50\n",
      "Page 30 of 50\n",
      "Page 31 of 50\n",
      "Page 32 of 50\n",
      "Page 33 of 50\n",
      "Page 34 of 50\n",
      "Page 35 of 50\n",
      "Page 36 of 50\n",
      "Page 37 of 50\n",
      "Page 38 of 50\n",
      "Page 39 of 50\n",
      "Page 40 of 50\n",
      "Page 41 of 50\n",
      "Page 42 of 50\n",
      "Page 43 of 50\n",
      "Page 44 of 50\n",
      "Page 45 of 50\n",
      "Page 46 of 50\n",
      "Page 47 of 50\n",
      "Page 48 of 50\n",
      "Page 49 of 50\n",
      "Page 50 of 50\n",
      "End.\n"
     ]
    }
   ],
   "source": [
    "while True:\n",
    "    books_elements = driver.find_elements(By.CLASS_NAME, \"thumbnail\")\n",
    "    current_page = driver.find_element(By.CLASS_NAME, \"current\")\n",
    "    print(current_page.text)\n",
    "    extract_stock(books_elements)\n",
    "    try:\n",
    "        next_button = driver.find_element(By.CSS_SELECTOR, \"li.next > a\")\n",
    "        next_button.click()\n",
    "    except:\n",
    "        print(\"End.\")\n",
    "        break"
   ]
  },
  {
   "cell_type": "markdown",
   "metadata": {},
   "source": [
    "### Ends the time count"
   ]
  },
  {
   "cell_type": "code",
   "execution_count": 7,
   "metadata": {},
   "outputs": [],
   "source": [
    "end_time = time.time()"
   ]
  },
  {
   "cell_type": "markdown",
   "metadata": {},
   "source": [
    "### Calculate automation time and convert into minutes"
   ]
  },
  {
   "cell_type": "code",
   "execution_count": 8,
   "metadata": {},
   "outputs": [
    {
     "name": "stdout",
     "output_type": "stream",
     "text": [
      "Total time: 6 minutes\n"
     ]
    }
   ],
   "source": [
    "total_time = end_time - start_time\n",
    "\n",
    "print(f\"Total time: {round(total_time / 60)} minutes\")"
   ]
  },
  {
   "cell_type": "markdown",
   "metadata": {},
   "source": [
    "### Create a DataFrame in Pandas from the collected title and stock data"
   ]
  },
  {
   "cell_type": "code",
   "execution_count": 9,
   "metadata": {},
   "outputs": [
    {
     "data": {
      "text/html": [
       "<div>\n",
       "<style scoped>\n",
       "    .dataframe tbody tr th:only-of-type {\n",
       "        vertical-align: middle;\n",
       "    }\n",
       "\n",
       "    .dataframe tbody tr th {\n",
       "        vertical-align: top;\n",
       "    }\n",
       "\n",
       "    .dataframe thead th {\n",
       "        text-align: right;\n",
       "    }\n",
       "</style>\n",
       "<table border=\"1\" class=\"dataframe\">\n",
       "  <thead>\n",
       "    <tr style=\"text-align: right;\">\n",
       "      <th></th>\n",
       "      <th>title</th>\n",
       "      <th>stock</th>\n",
       "    </tr>\n",
       "  </thead>\n",
       "  <tbody>\n",
       "    <tr>\n",
       "      <th>0</th>\n",
       "      <td>A Light in the Attic</td>\n",
       "      <td>22</td>\n",
       "    </tr>\n",
       "    <tr>\n",
       "      <th>1</th>\n",
       "      <td>Tipping the Velvet</td>\n",
       "      <td>20</td>\n",
       "    </tr>\n",
       "    <tr>\n",
       "      <th>2</th>\n",
       "      <td>Soumission</td>\n",
       "      <td>20</td>\n",
       "    </tr>\n",
       "    <tr>\n",
       "      <th>3</th>\n",
       "      <td>Sharp Objects</td>\n",
       "      <td>20</td>\n",
       "    </tr>\n",
       "    <tr>\n",
       "      <th>4</th>\n",
       "      <td>Sapiens: A Brief History of Humankind</td>\n",
       "      <td>20</td>\n",
       "    </tr>\n",
       "    <tr>\n",
       "      <th>...</th>\n",
       "      <td>...</td>\n",
       "      <td>...</td>\n",
       "    </tr>\n",
       "    <tr>\n",
       "      <th>995</th>\n",
       "      <td>Alice in Wonderland (Alice's Adventures in Won...</td>\n",
       "      <td>1</td>\n",
       "    </tr>\n",
       "    <tr>\n",
       "      <th>996</th>\n",
       "      <td>Ajin: Demi-Human, Volume 1 (Ajin: Demi-Human #1)</td>\n",
       "      <td>1</td>\n",
       "    </tr>\n",
       "    <tr>\n",
       "      <th>997</th>\n",
       "      <td>A Spy's Devotion (The Regency Spies of London #1)</td>\n",
       "      <td>1</td>\n",
       "    </tr>\n",
       "    <tr>\n",
       "      <th>998</th>\n",
       "      <td>1st to Die (Women's Murder Club #1)</td>\n",
       "      <td>1</td>\n",
       "    </tr>\n",
       "    <tr>\n",
       "      <th>999</th>\n",
       "      <td>1,000 Places to See Before You Die</td>\n",
       "      <td>1</td>\n",
       "    </tr>\n",
       "  </tbody>\n",
       "</table>\n",
       "<p>1000 rows × 2 columns</p>\n",
       "</div>"
      ],
      "text/plain": [
       "                                                 title stock\n",
       "0                                 A Light in the Attic    22\n",
       "1                                   Tipping the Velvet    20\n",
       "2                                           Soumission    20\n",
       "3                                        Sharp Objects    20\n",
       "4                Sapiens: A Brief History of Humankind    20\n",
       "..                                                 ...   ...\n",
       "995  Alice in Wonderland (Alice's Adventures in Won...     1\n",
       "996   Ajin: Demi-Human, Volume 1 (Ajin: Demi-Human #1)     1\n",
       "997  A Spy's Devotion (The Regency Spies of London #1)     1\n",
       "998                1st to Die (Women's Murder Club #1)     1\n",
       "999                 1,000 Places to See Before You Die     1\n",
       "\n",
       "[1000 rows x 2 columns]"
      ]
     },
     "execution_count": 9,
     "metadata": {},
     "output_type": "execute_result"
    }
   ],
   "source": [
    "df_stock = pd.DataFrame({\"title\": title_list,\n",
    "            \"stock\": stock_list})\n",
    "df_stock"
   ]
  },
  {
   "cell_type": "markdown",
   "metadata": {},
   "source": [
    "### Creating a CSV file with the data"
   ]
  },
  {
   "cell_type": "code",
   "execution_count": 10,
   "metadata": {},
   "outputs": [],
   "source": [
    "df_stock.to_csv('stock.csv', index=False)"
   ]
  }
 ],
 "metadata": {
  "kernelspec": {
   "display_name": "Python 3",
   "language": "python",
   "name": "python3"
  },
  "language_info": {
   "codemirror_mode": {
    "name": "ipython",
    "version": 3
   },
   "file_extension": ".py",
   "mimetype": "text/x-python",
   "name": "python",
   "nbconvert_exporter": "python",
   "pygments_lexer": "ipython3",
   "version": "3.12.3"
  }
 },
 "nbformat": 4,
 "nbformat_minor": 2
}
